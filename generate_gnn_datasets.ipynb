{
 "cells": [
  {
   "cell_type": "code",
   "execution_count": 6,
   "metadata": {},
   "outputs": [
    {
     "name": "stdout",
     "output_type": "stream",
     "text": [
      "['Unnamed: 0' 'cls' 'timestep' 'id' 'x' 'y' 'heading' 'speed'\n",
      " 'acceleration' 'label']\n"
     ]
    }
   ],
   "source": [
    "\n",
    "import math\n",
    "import pandas\n",
    "with open(\"data/myoutput.csv\", 'r') as csvfile:\n",
    "    df = pandas.read_csv(csvfile)\n",
    " # The names of all the columns in the data.\n",
    "\n",
    "#,cls,timestep,id,x,y,heading,speed,acceleration,label,Unnamed: 8,Unnamed: 9\n",
    "# distance_columns = ['x', 'y']\n",
    "\n",
    "\n",
    "print(df.columns.values)\n"
   ]
  },
  {
   "cell_type": "code",
   "execution_count": 7,
   "metadata": {},
   "outputs": [],
   "source": [
    "\n",
    "TEXT_EDGE_INDEX = \"edge_index\"\n",
    "TEXT_EDGE_WEIGHT = \"edge_weight\"\n",
    "TEXT_X = \"x\"\n",
    "TEXT_Y = \"y\"\n",
    "TEXT_ID = \"id\""
   ]
  },
  {
   "cell_type": "code",
   "execution_count": 8,
   "metadata": {},
   "outputs": [
    {
     "data": {
      "text/plain": [
       "{'x': {'max': 145.181219, 'min': 1.365972, 'null': False, 'nan': False},\n",
       " 'y': {'max': -37.831364,\n",
       "  'min': -37.86825709520564,\n",
       "  'null': False,\n",
       "  'nan': False},\n",
       " 'heading': {'max': 359.99113, 'min': 0.0, 'null': False, 'nan': False},\n",
       " 'speed': {'max': 29.632303, 'min': -10.0, 'null': False, 'nan': False},\n",
       " 'acceleration': {'max': 6.0, 'min': -10.0, 'null': True, 'nan': True}}"
      ]
     },
     "execution_count": 8,
     "metadata": {},
     "output_type": "execute_result"
    }
   ],
   "source": [
    "ADDITIONAL_WEIGHT_FEATURES = [TEXT_X,TEXT_Y,\"heading\",\"speed\",\"acceleration\"]\n",
    "\n",
    "field_props = {}\n",
    "for field in ADDITIONAL_WEIGHT_FEATURES:\n",
    "    x_pros = df[field].describe().transpose()\n",
    "    field_props[field]={\n",
    "        \"max\":x_pros[\"max\"],\n",
    "        \"min\":x_pros[\"min\"],\n",
    "        \"null\":df[field].isnull().values.any(),\n",
    "        \"nan\":df[field].isna().values.any()\n",
    "    } \n",
    "field_props"
   ]
  },
  {
   "cell_type": "code",
   "execution_count": 9,
   "metadata": {},
   "outputs": [
    {
     "name": "stderr",
     "output_type": "stream",
     "text": [
      "100%|██████████| 11/11 [09:41<00:00, 52.85s/it] \n"
     ]
    }
   ],
   "source": [
    "import numpy as np \n",
    "import json\n",
    "from tqdm import tqdm\n",
    "import warnings\n",
    "ADD_FEATURES_AS_SELF_WEIGHT=True\n",
    "NEGATIVE_WEIGHT = False\n",
    "\n",
    "warnings.simplefilter(action='ignore', category=FutureWarning)\n",
    "unique_node_names = np.unique(df['id']).tolist()\n",
    "index_to_node = {x: unique_node_names[x] for x in range(0, len(unique_node_names))}\n",
    "node_to_index = {unique_node_names[x]:x  for x in range(0, len(unique_node_names))}\n",
    "for num_edges in tqdm([0,1,2,3,4,5,50,100,150,200,10000]):\n",
    "    to_export = {\n",
    "        TEXT_EDGE_INDEX : { },\n",
    "        TEXT_EDGE_WEIGHT : { },\n",
    "        \"time_periods\": 1000,\n",
    "        TEXT_Y: [],\n",
    "        \"features\": [], # x,y,heading,speed,acceleration\n",
    "        \"node_labels\" : []\n",
    "    }\n",
    "    to_export[\"node_labels\"] = unique_node_names\n",
    "    cnt = 0\n",
    "    for step, d_step in df.groupby(['timestep']):\n",
    "        step = str(int(step))\n",
    "        arr = np.zeros(len(unique_node_names)).tolist()\n",
    "        arr_features = np.zeros((len(unique_node_names),5)).tolist()\n",
    "        to_export[TEXT_EDGE_INDEX][step] = []\n",
    "        to_export[TEXT_EDGE_WEIGHT][step] = []\n",
    "        to_export[TEXT_Y].append(arr)\n",
    "        to_export[\"features\"].append(arr_features)\n",
    "        for cls, d_cls in d_step.groupby(['cls']):\n",
    "            added = {}\n",
    "            cur_edge = 0\n",
    "            for x, row_x in d_cls.iterrows():\n",
    "                lbl = row_x[\"label\"]\n",
    "                from_node_index = node_to_index[row_x[TEXT_ID]]\n",
    "                arr[from_node_index]=lbl\n",
    "\n",
    "                additional_fields = {}\n",
    "                current_field_index = 0\n",
    "                for field in ADDITIONAL_WEIGHT_FEATURES:\n",
    "                    x_val = row_x[field]\n",
    "                    min_value = field_props[field][\"min\"]\n",
    "\n",
    "                    if not x_val or np.isnan(x_val):\n",
    "                        x_val=0.000000000001 # TODO: should we use min value or zero? x=>? , acceleration zero ok?\n",
    "                    else:\n",
    "                        x_val = float(x_val)\n",
    "\n",
    "                    if min_value<0:\n",
    "                        x_val = x_val + abs(field_props[field][\"min\"])\n",
    "                    \n",
    "                    arr_features[from_node_index][current_field_index]=x_val\n",
    "                    additional_fields[field]=x_val\n",
    "                    current_field_index+=1\n",
    " \n",
    "                if ADD_FEATURES_AS_SELF_WEIGHT:\n",
    "                    for field in ADDITIONAL_WEIGHT_FEATURES:\n",
    "                        to_export[TEXT_EDGE_INDEX][step].append([from_node_index,from_node_index ])\n",
    "                        to_export[TEXT_EDGE_WEIGHT][step].append(additional_fields[field])\n",
    "\n",
    "                for y, row_y in d_cls.iterrows():\n",
    "                    _key = str(x) + \"_\" + str(y)\n",
    "                    _key_rev = str(y) + \"_\" + str(x)\n",
    "                    if x!=y and not added.get(_key) and not added.get(_key_rev):\n",
    "                        # from_node_id = node_to_index[row_x[TEXT_ID]]\n",
    "                        to_node_id = node_to_index[row_y[TEXT_ID]]\n",
    "                        to_export[TEXT_EDGE_INDEX][step].append([from_node_index,to_node_id ])\n",
    "                        to_export[TEXT_EDGE_INDEX][step].append([to_node_id, from_node_index])\n",
    "                        a = np.array((x, y))\n",
    "                        b = np.array((row_y[TEXT_X], row_y[TEXT_Y]))\n",
    "                        # https://stackoverflow.com/a/1401828/1290868\n",
    "                        dist = np.linalg.norm(a-b) \n",
    "                        dist = -dist if NEGATIVE_WEIGHT else dist \n",
    "                        dist = lbl if lbl ==0 else (-dist/lbl if NEGATIVE_WEIGHT else dist*lbl )\n",
    "                        to_export[TEXT_EDGE_WEIGHT][step].append(dist)\n",
    "                        to_export[TEXT_EDGE_WEIGHT][step].append(dist)\n",
    "                        added[_key]=True\n",
    "                        added[_key_rev]=True\n",
    "                        cur_edge +=1\n",
    "                        if cur_edge > num_edges:\n",
    "                            break\n",
    "                if cur_edge > num_edges:\n",
    "                    break\n",
    "    with open(f\"data/myoutput_{num_edges}_edges{'_negative' if NEGATIVE_WEIGHT else '_positive'}{'_with_features_as_self_edge' if ADD_FEATURES_AS_SELF_WEIGHT else ''}.json\", \"w\") as outfile:\n",
    "        json.dump(to_export,outfile)"
   ]
  }
 ],
 "metadata": {
  "kernelspec": {
   "display_name": "egcnoi_env",
   "language": "python",
   "name": "python3"
  },
  "language_info": {
   "codemirror_mode": {
    "name": "ipython",
    "version": 3
   },
   "file_extension": ".py",
   "mimetype": "text/x-python",
   "name": "python",
   "nbconvert_exporter": "python",
   "pygments_lexer": "ipython3",
   "version": "3.10.9"
  }
 },
 "nbformat": 4,
 "nbformat_minor": 2
}
