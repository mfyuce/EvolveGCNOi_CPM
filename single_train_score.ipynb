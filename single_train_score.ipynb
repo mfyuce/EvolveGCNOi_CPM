{
 "cells": [
  {
   "cell_type": "code",
   "execution_count": 1,
   "metadata": {},
   "outputs": [
    {
     "name": "stdout",
     "output_type": "stream",
     "text": [
      "{'p': 0.0, 'r': 0.0, 'f': 0.0, 'a': 0.961917808219177, 'a1': 0.9691917808219144, 'm': 0.2805773128360005, 'c': 1.4638537168502808, 'nt': 2, 'tr': 0.7, 'l': 1, 'lr': 0.0009, 'current_try': 2}\n"
     ]
    }
   ],
   "source": [
    "from tqdm import tqdm\n",
    "from BurstAdmaDatasetLoader import BurstAdmaDatasetLoader\n",
    "from torch_geometric_temporal.signal import temporal_signal_split\n",
    "import json \n",
    "import time\n",
    "from graphs.recurrent.graphs_evolvegcn_h_improved import ModelOps\n",
    "import os\n",
    "import torch\n",
    "import torch.multiprocessing as mp\n",
    "import json\n",
    "import time\n",
    "import pandas as pd\n",
    "\n",
    "os.environ['CUDA_VISIBLE_DEVICES'] = '-1'\n",
    "os.environ['OMP_NUM_THREADS'] = '1'\n",
    "os.environ['MKL_NUM_THREADS'] = '1'\n",
    "\n",
    "MAX_PROCESS = 1 #int(mp.cpu_count()*0.7)\n",
    "num_each_threads = 1 # int(mp.cpu_count()*0.7/MAX_PROCESS) \n",
    "torch.set_num_threads(num_each_threads)\n",
    "torch.set_num_interop_threads(num_each_threads)\n",
    " \n",
    "  \n",
    "t = int(time.time())\n",
    "g_ml = None\n",
    "def execute_one(loader, lags, train_ratio, num_train,current_try, lr):\n",
    "\n",
    "    # torch.set_num_threads(num_each_threads)\n",
    "    # torch.set_num_interop_threads(num_each_threads)\n",
    "\n",
    "    dataset = loader.get_dataset(lags=lags)\n",
    "    # device = torch.device('cuda')\n",
    "    # dataset = dataset.to(device)\n",
    "    train_dataset, test_dataset = temporal_signal_split(dataset, train_ratio=train_ratio)\n",
    "    ml_structure = ModelOps(lr=lr)\n",
    "    global g_ml\n",
    "    g_ml = ml_structure\n",
    "    ml_structure.train(loader, train_dataset, num_train=num_train, plot_model=False,\n",
    "                       calc_perf=True)\n",
    "    metrics = ml_structure.eval(test_dataset, plot_model=False)\n",
    "    metrics[\"nt\"] = num_train\n",
    "    metrics[\"tr\"] = train_ratio\n",
    "    metrics[\"l\"] = lags\n",
    "    metrics[\"lr\"] = lr\n",
    "    # metrics[\"model\"] = ml_structure \n",
    "    # if metrics['p']>0.99 or metrics['r']>0.99 or metrics['f']>0.99  or  metrics['a']>0.99  or   metrics['m']>0.99  :\n",
    "    # torch.save(ml_structure.model, f\"./runs/{t}/saved_model_{current_try}_{lr}_{lags}_{train_ratio}_{num_train }\")\n",
    "    # ml_structure.history1.progress()\n",
    "    # ml_structure.history1.save(f\"./runs/{t}/saved_log_{current_try}_{lr}_{lags}_{train_ratio}_{num_train }.pkl\")\n",
    "    # ml_structure.plot([\"a\",\"p\",\"r\",\"f\"])\n",
    "    # ml_structure.save_after_plot(f\"split1/saved_plot_4_{current_try}_{lags}_{train_ratio}_{num_train }.png\")\n",
    "    # ml_structure.plot([\"a\",\"p\",\"r\",\"f\",\"m\"])\n",
    "    # ml_structure.save_after_plot(f\"split1/saved_plot_5_{current_try}_{lags}_{train_ratio}_{num_train }.png\")\n",
    "\n",
    "    metrics[\"current_try\"] = current_try\n",
    "    # q.put(metrics)\n",
    "    return metrics\n",
    "\n",
    "\n",
    "\n",
    "loader = BurstAdmaDatasetLoader(negative_edge=False,features_as_self_edge=True)  # , negative_edge=True)\n",
    "LAG = 1\n",
    "TRAIN_RATION = 0.7\n",
    "NUM_TRAIN = 2\n",
    "LEARNING_RATE = 0.0009\n",
    "\n",
    "metrics = execute_one(loader, LAG, TRAIN_RATION, NUM_TRAIN,NUM_TRAIN,LEARNING_RATE)\n",
    " \n",
    "print(metrics)\n",
    "\n"
   ]
  },
  {
   "cell_type": "code",
   "execution_count": 1,
   "metadata": {},
   "outputs": [
    {
     "ename": "NameError",
     "evalue": "name 'g_ml' is not defined",
     "output_type": "error",
     "traceback": [
      "\u001b[0;31m---------------------------------------------------------------------------\u001b[0m",
      "\u001b[0;31mNameError\u001b[0m                                 Traceback (most recent call last)",
      "Cell \u001b[0;32mIn[1], line 1\u001b[0m\n\u001b[0;32m----> 1\u001b[0m \u001b[38;5;28mprint\u001b[39m(\u001b[43mg_ml\u001b[49m)\n",
      "\u001b[0;31mNameError\u001b[0m: name 'g_ml' is not defined"
     ]
    }
   ],
   "source": [
    "print(g_ml)"
   ]
  }
 ],
 "metadata": {
  "kernelspec": {
   "display_name": "egcnoi_env",
   "language": "python",
   "name": "python3"
  },
  "language_info": {
   "codemirror_mode": {
    "name": "ipython",
    "version": 3
   },
   "file_extension": ".py",
   "mimetype": "text/x-python",
   "name": "python",
   "nbconvert_exporter": "python",
   "pygments_lexer": "ipython3",
   "version": "3.10.9"
  },
  "orig_nbformat": 4
 },
 "nbformat": 4,
 "nbformat_minor": 2
}
